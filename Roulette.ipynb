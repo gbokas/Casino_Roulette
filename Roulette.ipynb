{
 "cells": [
  {
   "cell_type": "code",
   "execution_count": 1,
   "metadata": {},
   "outputs": [],
   "source": [
    "import random\n",
    "import matplotlib.pyplot as plt\n",
    "\n",
    "\n",
    "# Create a US roulette game playing High/Low\n",
    "\n",
    "def rollDice():\n",
    "    try:\n",
    "        high_low=int(input('You are playing a roulette game high/low.\\nFor Low choose 1-18 \\nfor High Choose 19-36:'))\n",
    "    except ValueError:\n",
    "        print(\"Not a number\")\n",
    "    if high_low >= 1 and high_low <= 18 :\n",
    "        print(\"you are in... Lets roll it. good luck\\n\")\n",
    "        roll = random.randint(0,37)\n",
    "        if roll == 0:\n",
    "            print('roll was 0, you lose.\\n')\n",
    "            return False\n",
    "        elif roll == 37:\n",
    "            print(roll,'roll was 00, you lose.\\n')\n",
    "            return False\n",
    "        elif roll <= 18:\n",
    "            print(roll,'roll was 1-18, you win.\\n')\n",
    "            return True\n",
    "        elif roll > 18 and roll <= 36 :\n",
    "            print(roll,'roll was 19-36, you lose! Bad luck\\n')\n",
    "            return False\n",
    "    elif high_low > 18 and high_low <= 36 :\n",
    "        print(\"you are in... Lets roll it. good luck\\n\")\n",
    "        roll = random.randint(0,37)\n",
    "\n",
    "        if roll == 0:\n",
    "            print('roll was 0, you lose.\\n')\n",
    "            return False\n",
    "        elif roll == 37:\n",
    "            print(roll,'roll was 00, you lose.\\n')\n",
    "            return False\n",
    "        elif roll <= 18:\n",
    "            print(roll,'roll was 1-18, you lose. Bad luck\\n')\n",
    "            return False\n",
    "        elif roll > 18 and roll <= 36:\n",
    "            print(roll,'roll was 19-36, you won!\\n')\n",
    "            return True\n",
    "    else:\n",
    "        print(\"You gave invalid number. For high low you can choose only from 1-36\\n\")\n",
    "        rollDice()\n"
   ]
  },
  {
   "cell_type": "code",
   "execution_count": 2,
   "metadata": {},
   "outputs": [
    {
     "name": "stdout",
     "output_type": "stream",
     "text": [
      "You are playing a roulette game high/low.\n",
      "For Low choose 1-18 \n",
      "for High Choose 19-36:17\n",
      "you are in... Lets roll it. good luck\n",
      "\n",
      "17 roll was 1-18, you win.\n",
      "\n"
     ]
    },
    {
     "data": {
      "text/plain": [
       "True"
      ]
     },
     "execution_count": 2,
     "metadata": {},
     "output_type": "execute_result"
    }
   ],
   "source": [
    "rollDice()"
   ]
  },
  {
   "cell_type": "code",
   "execution_count": 3,
   "metadata": {},
   "outputs": [],
   "source": [
    "def rollDice_auto(val):\n",
    "    if val == \"High\":\n",
    "        high_low = 32\n",
    "    else:\n",
    "        high_low = 1\n",
    "\n",
    "    if high_low >= 1 and high_low <= 18 :\n",
    "        roll = random.randint(0,37)\n",
    "        if roll == 0 or roll == 37 or not roll <=18:\n",
    "            return False\n",
    "        else:\n",
    "            return True\n",
    "    else:\n",
    "        roll = random.randint(0,37)\n",
    "        if roll == 0 or roll == 37 or roll <= 18:\n",
    "            return False\n",
    "        else:\n",
    "            return True"
   ]
  },
  {
   "cell_type": "code",
   "execution_count": 4,
   "metadata": {},
   "outputs": [
    {
     "data": {
      "text/plain": [
       "True"
      ]
     },
     "execution_count": 4,
     "metadata": {},
     "output_type": "execute_result"
    }
   ],
   "source": [
    "rollDice_auto('High')"
   ]
  },
  {
   "cell_type": "code",
   "execution_count": 5,
   "metadata": {},
   "outputs": [],
   "source": [
    "'''\n",
    "Simple bettor, betting the same amount each time.\n",
    "'''\n",
    "def simple_bettor(funds,initial_wager,wager_count):\n",
    "    value = funds\n",
    "    wager = initial_wager\n",
    "    currentWager = 0\n",
    "    while currentWager < wager_count and value > 0:\n",
    "        if rollDice():\n",
    "            value += wager\n",
    "        else:\n",
    "            value -= wager\n",
    "        currentWager += 1\n",
    "        print('Funds:', value)\n",
    "    if value <= 0:\n",
    "        print('Funds: Broke')\n",
    "    else:\n",
    "        print(\"Funds: \", value)"
   ]
  },
  {
   "cell_type": "code",
   "execution_count": 20,
   "metadata": {},
   "outputs": [
    {
     "name": "stdout",
     "output_type": "stream",
     "text": [
      "You are playing a roulette game high/low.\n",
      "For Low choose 1-18 \n",
      "for High Choose 19-36:2\n",
      "you are in... Lets roll it. good luck\n",
      "\n",
      "7 roll was 1-18, you win.\n",
      "\n",
      "Funds: 101\n",
      "You are playing a roulette game high/low.\n",
      "For Low choose 1-18 \n",
      "for High Choose 19-36:3\n",
      "you are in... Lets roll it. good luck\n",
      "\n",
      "18 roll was 1-18, you win.\n",
      "\n",
      "Funds: 102\n",
      "You are playing a roulette game high/low.\n",
      "For Low choose 1-18 \n",
      "for High Choose 19-36:5\n",
      "you are in... Lets roll it. good luck\n",
      "\n",
      "8 roll was 1-18, you win.\n",
      "\n",
      "Funds: 103\n",
      "You are playing a roulette game high/low.\n",
      "For Low choose 1-18 \n",
      "for High Choose 19-36:18\n",
      "you are in... Lets roll it. good luck\n",
      "\n",
      "roll was 0, you lose.\n",
      "\n",
      "Funds: 102\n",
      "You are playing a roulette game high/low.\n",
      "For Low choose 1-18 \n",
      "for High Choose 19-36:34\n",
      "you are in... Lets roll it. good luck\n",
      "\n",
      "30 roll was 19-36, you won!\n",
      "\n",
      "Funds: 103\n",
      "You are playing a roulette game high/low.\n",
      "For Low choose 1-18 \n",
      "for High Choose 19-36:31\n",
      "you are in... Lets roll it. good luck\n",
      "\n",
      "18 roll was 1-18, you lose. Bad luck\n",
      "\n",
      "Funds: 102\n",
      "You are playing a roulette game high/low.\n",
      "For Low choose 1-18 \n",
      "for High Choose 19-36:21\n",
      "you are in... Lets roll it. good luck\n",
      "\n",
      "20 roll was 19-36, you won!\n",
      "\n",
      "Funds: 103\n",
      "You are playing a roulette game high/low.\n",
      "For Low choose 1-18 \n",
      "for High Choose 19-36:37\n",
      "You gave invalid number. For high low you can choose only from 1-36\n",
      "\n",
      "You are playing a roulette game high/low.\n",
      "For Low choose 1-18 \n",
      "for High Choose 19-36:10\n",
      "you are in... Lets roll it. good luck\n",
      "\n",
      "20 roll was 19-36, you lose! Bad luck\n",
      "\n",
      "Funds: 102\n",
      "You are playing a roulette game high/low.\n",
      "For Low choose 1-18 \n",
      "for High Choose 19-36:1\n",
      "you are in... Lets roll it. good luck\n",
      "\n",
      "31 roll was 19-36, you lose! Bad luck\n",
      "\n",
      "Funds: 101\n",
      "You are playing a roulette game high/low.\n",
      "For Low choose 1-18 \n",
      "for High Choose 19-36:2\n",
      "you are in... Lets roll it. good luck\n",
      "\n",
      "19 roll was 19-36, you lose! Bad luck\n",
      "\n",
      "Funds: 100\n",
      "Funds:  100\n"
     ]
    }
   ],
   "source": [
    "simple_bettor(100, 1, 10)"
   ]
  },
  {
   "cell_type": "code",
   "execution_count": 8,
   "metadata": {},
   "outputs": [],
   "source": [
    "def simple_bettor_auto(funds,initial_wager,wager_count,pick):\n",
    "    value = funds\n",
    "    wager = initial_wager\n",
    "    currentWager = 0\n",
    "    X = []\n",
    "    Y = []\n",
    "    while currentWager < wager_count and value > 0:\n",
    "        if rollDice_auto(pick):\n",
    "            value += wager\n",
    "        else:\n",
    "            value -= wager\n",
    "        currentWager += 1\n",
    "        X.append(currentWager)\n",
    "        Y.append(value)\n",
    "#    if value <= 0:\n",
    "        #print('Funds: Broke')\n",
    "#        return X, Y\n",
    "#    else:\n",
    "        #print(\"Funds: \", value)\n",
    "    return X, Y\n"
   ]
  },
  {
   "cell_type": "markdown",
   "metadata": {},
   "source": [
    "What is gonna happen if you play 10000 turns betting always in high number in a roulette game. Are you gonna win or lose in the long run?"
   ]
  },
  {
   "cell_type": "code",
   "execution_count": 9,
   "metadata": {},
   "outputs": [],
   "source": [
    "X, Y = simple_bettor_auto(1000,2,10000,'High')"
   ]
  },
  {
   "cell_type": "code",
   "execution_count": 10,
   "metadata": {},
   "outputs": [
    {
     "data": {
      "text/plain": [
       "<matplotlib.collections.PathCollection at 0x11c1c4e10>"
      ]
     },
     "execution_count": 10,
     "metadata": {},
     "output_type": "execute_result"
    },
    {
     "data": {
      "image/png": "[encoded data removed]",
      "text/plain": [
       "<Figure size 432x288 with 1 Axes>"
      ]
     },
     "metadata": {
      "needs_background": "light"
     },
     "output_type": "display_data"
    }
   ],
   "source": [
    "plt.scatter(X, Y)"
   ]
  },
  {
   "cell_type": "markdown",
   "metadata": {},
   "source": [
    "As you can see as you play the game you are losing money all the time. The reason is the two 0 and 00 that exist at the US roulette table. How about playing the exact same game in Europe. In Europe there is only one green number that you will lose your money the 0. Does this change the outcome?"
   ]
  },
  {
   "cell_type": "code",
   "execution_count": 11,
   "metadata": {},
   "outputs": [],
   "source": [
    "def rollDice_auto_EU(val):\n",
    "    if val == \"High\":\n",
    "        high_low = 32\n",
    "    else:\n",
    "        high_low = 1\n",
    "\n",
    "    if high_low >= 1 and high_low <= 18 :\n",
    "        roll = random.randint(0,36)\n",
    "        if roll == 0 or not roll <=18:\n",
    "            return False\n",
    "        else:\n",
    "            return True\n",
    "    else:\n",
    "        roll = random.randint(0,36)\n",
    "        if roll == 0 or roll <= 18:\n",
    "            return False\n",
    "        else:\n",
    "            return True\n",
    "        \n",
    "def simple_bettor_auto_EU(funds,initial_wager,wager_count,pick):\n",
    "    value = funds\n",
    "    wager = initial_wager\n",
    "    currentWager = 0\n",
    "    X = []\n",
    "    Y = []\n",
    "    while currentWager < wager_count and value > 0:\n",
    "        if rollDice_auto_EU(pick):\n",
    "            value += wager\n",
    "        else:\n",
    "            value -= wager\n",
    "        currentWager += 1\n",
    "        X.append(currentWager)\n",
    "        Y.append(value)\n",
    "#    if value <= 0:\n",
    "#        print('Funds: Broke')\n",
    "#        return X, Y\n",
    "#    else:\n",
    "#        print(\"Funds: \", value)\n",
    "    return X, Y\n",
    "\n"
   ]
  },
  {
   "cell_type": "code",
   "execution_count": 12,
   "metadata": {},
   "outputs": [],
   "source": [
    "X_EU, Y_EU = simple_bettor_auto_EU(1000,2,10000,'High')"
   ]
  },
  {
   "cell_type": "code",
   "execution_count": 13,
   "metadata": {},
   "outputs": [
    {
     "data": {
      "text/plain": [
       "<matplotlib.collections.PathCollection at 0x10c5d36d8>"
      ]
     },
     "execution_count": 13,
     "metadata": {},
     "output_type": "execute_result"
    },
    {
     "data": {
      "image/png": "[encoded data removed]",
      "text/plain": [
       "<Figure size 432x288 with 1 Axes>"
      ]
     },
     "metadata": {
      "needs_background": "light"
     },
     "output_type": "display_data"
    }
   ],
   "source": [
    "plt.scatter(X_EU, Y_EU)"
   ]
  },
  {
   "cell_type": "code",
   "execution_count": 14,
   "metadata": {},
   "outputs": [
    {
     "data": {
      "text/plain": [
       "<matplotlib.legend.Legend at 0x11c33acf8>"
      ]
     },
     "execution_count": 14,
     "metadata": {},
     "output_type": "execute_result"
    },
    {
     "data": {
      "image/png": "[encoded data removed]",
      "text/plain": [
       "<Figure size 432x288 with 1 Axes>"
      ]
     },
     "metadata": {
      "needs_background": "light"
     },
     "output_type": "display_data"
    }
   ],
   "source": [
    "plt.scatter(X_EU, Y_EU, label=\"EU Roulette\")\n",
    "plt.scatter(X, Y, label=\"US Roulette\")\n",
    "plt.xlabel(\"# of times you played\")\n",
    "plt.ylabel(\"Amount of money\")\n",
    "plt.legend()"
   ]
  },
  {
   "cell_type": "markdown",
   "metadata": {},
   "source": [
    "Can we find a better strategy than this one? Maybe doubling up the amount of money after each losing bet? \n",
    "And going back to our initial bet when we win."
   ]
  },
  {
   "cell_type": "code",
   "execution_count": 77,
   "metadata": {},
   "outputs": [],
   "source": [
    "def doubling_auto(funds,initial_wager,wager_count,pick):\n",
    "    value = funds\n",
    "    wager = initial_wager\n",
    "    currentWager = 0\n",
    "    X = []\n",
    "    Y = []\n",
    "    while currentWager < wager_count and value > 0:\n",
    "        if rollDice_auto(pick):\n",
    "            value += wager\n",
    "            wager = initial_wager\n",
    "        else:\n",
    "            value -= wager\n",
    "            wager = wager * 2\n",
    "        currentWager += 1\n",
    "        X.append(currentWager)\n",
    "        Y.append(value)\n",
    "    if value <= 0:\n",
    "        value = 0\n",
    "        print(\"Broke after\", currentWager, \"plays\")\n",
    "        return X, Y\n",
    "    print(\"Still not broke?? amazing!!!\")\n",
    "    return X, Y\n",
    "\n"
   ]
  },
  {
   "cell_type": "code",
   "execution_count": 79,
   "metadata": {},
   "outputs": [
    {
     "name": "stdout",
     "output_type": "stream",
     "text": [
      "Broke after 818 plays\n"
     ]
    }
   ],
   "source": [
    "X_double, Y_double = doubling_auto(1000, 1, 10000, \"High\")"
   ]
  },
  {
   "cell_type": "code",
   "execution_count": 81,
   "metadata": {},
   "outputs": [
    {
     "data": {
      "text/plain": [
       "<matplotlib.legend.Legend at 0x11cebfd68>"
      ]
     },
     "execution_count": 81,
     "metadata": {},
     "output_type": "execute_result"
    },
    {
     "data": {
      "image/png": "[encoded data removed]",
      "text/plain": [
       "<Figure size 432x288 with 1 Axes>"
      ]
     },
     "metadata": {
      "needs_background": "light"
     },
     "output_type": "display_data"
    }
   ],
   "source": [
    "plt.scatter(X_double, Y_double, label=\"EU Doubling\")\n",
    "plt.scatter(X_EU, Y_EU, label=\"EU Roulette\")\n",
    "plt.scatter(X, Y, label=\"US Roulette\")\n",
    "plt.xlabel(\"# of times you played\")\n",
    "plt.ylabel(\"Amount of money\")\n",
    "plt.legend()"
   ]
  },
  {
   "cell_type": "markdown",
   "metadata": {},
   "source": [
    "It seems that by doubling initially you are gaining some money but then it will come a point at which you will run broke very fast. In less than 10000 tries."
   ]
  },
  {
   "cell_type": "code",
   "execution_count": 135,
   "metadata": {},
   "outputs": [],
   "source": [
    "def doubling_auto(funds,initial_wager,wager_count,pick):\n",
    "    value = funds\n",
    "    wager = initial_wager\n",
    "    currentWager = 0\n",
    "    X = []\n",
    "    Y = []\n",
    "    while currentWager < wager_count and value > 0:\n",
    "        if rollDice_auto(pick):\n",
    "            value += wager\n",
    "            wager = initial_wager\n",
    "        else:\n",
    "            value -= wager\n",
    "            wager = wager * 2\n",
    "        currentWager += 1\n",
    "        X.append(currentWager)\n",
    "        Y.append(value)\n",
    "    if value <= 0:\n",
    "        #print(\"Broke after\", currentWager, \"plays\")\n",
    "        return value\n",
    "    #print(\"Still not broke?? amazing!!!\")\n",
    "    return value"
   ]
  },
  {
   "cell_type": "markdown",
   "metadata": {},
   "source": [
    "But what is happening if you go at the casino multiple times. Are you gone be able to win at the long run or not?\n",
    "In the example below one player is visiting the casino 1000 times and he is using doubling strategy. He is gonna play only 100 times per visit."
   ]
  },
  {
   "cell_type": "code",
   "execution_count": 144,
   "metadata": {},
   "outputs": [
    {
     "name": "stdout",
     "output_type": "stream",
     "text": [
      " Do you want to play turn by turn or automatically choose always High or low and see if you win or lose after some rolls?\n",
      "For automatic give auto else give manual:\n",
      "A -- Automatic,\n",
      "M -- ManualA\n",
      "Initial Funds:1000\n",
      "How much money are you going to bet per turn??\n",
      "1\n",
      "How many times do you want to roll the Dice??\n",
      "100\n",
      "High or Low in case of automatic only:\n",
      "High\n",
      "What strategy are you going to follow?\n",
      " Aggresive or single?\n",
      "A -- Aggresive,\n",
      " s -- SingleA\n",
      "100 -17942\n"
     ]
    }
   ],
   "source": [
    "choise = input(\" Do you want to play turn by turn or automatically choose always High or low and see if you win or lose after some rolls?\\nFor automatic give auto else give manual:\\nA -- Automatic,\\nM -- Manual\")\n",
    "initial_funds = int(input('Initial Funds:'))\n",
    "bet = int(input('How much money are you going to bet per turn??\\n'))\n",
    "times = int(input('How many times do you want to roll the Dice??\\n'))\n",
    "high_or_low = input(\"High or Low in case of automatic only:\\n\")\n",
    "\n",
    "strategy = input('What strategy are you going to follow?\\n Aggresive or single?\\nA -- Aggresive,\\n s -- Single')\n",
    "X_stat_US = []\n",
    "Y_stat_US = []\n",
    "if choise == \"A\":\n",
    "    x = 0\n",
    "    totalsum = 0\n",
    "    while x < 1000:\n",
    "        if strategy == \"A\":\n",
    "            totalsum += doubling_auto(initial_funds, bet, times, high_or_low)-initial_funds\n",
    "        else:\n",
    "            totalsum += simple_bettor_auto(initial_funds, bet, times, high_or_low)-initial_funds\n",
    "        x = x + 1\n",
    "        X_stat_US.append(x)\n",
    "        Y_stat_US.append(totalsum)\n",
    "    print(times, totalsum)\n"
   ]
  },
  {
   "cell_type": "code",
   "execution_count": 145,
   "metadata": {},
   "outputs": [
    {
     "data": {
      "text/plain": [
       "<matplotlib.collections.PathCollection at 0x11daca3c8>"
      ]
     },
     "execution_count": 145,
     "metadata": {},
     "output_type": "execute_result"
    },
    {
     "data": {
      "image/png": "[encoded data removed]",
      "text/plain": [
       "<Figure size 432x288 with 1 Axes>"
      ]
     },
     "metadata": {
      "needs_background": "light"
     },
     "output_type": "display_data"
    }
   ],
   "source": [
    "plt.scatter(X_stat_US, Y_stat_US)"
   ]
  },
  {
   "cell_type": "code",
   "execution_count": 180,
   "metadata": {},
   "outputs": [
    {
     "name": "stdout",
     "output_type": "stream",
     "text": [
      " Do you want to play turn by turn or automatically choose always High or low and see if you win or lose after some rolls?\n",
      "For automatic give auto else give manual:\n",
      "A -- Automatic,\n",
      "M -- ManualA\n",
      "Initial Funds:1000\n",
      "How much money are you going to bet per turn??\n",
      "1\n",
      "How many times do you want to roll the Dice??\n",
      "100\n",
      "High or Low in case of automatic only:\n",
      "High\n",
      "What strategy are you going to follow?\n",
      " Aggresive or single?\n",
      "A -- Aggresive,\n",
      " s -- SingleA\n",
      "100 -11818\n"
     ]
    }
   ],
   "source": [
    "def doubling_auto(funds,initial_wager,wager_count,pick):\n",
    "    value = funds\n",
    "    wager = initial_wager\n",
    "    currentWager = 0\n",
    "    X = []\n",
    "    Y = []\n",
    "    while currentWager < wager_count and value > 0:\n",
    "        if rollDice_auto_EU(pick):\n",
    "            value += wager\n",
    "            wager = initial_wager\n",
    "        else:\n",
    "            value -= wager\n",
    "            wager = wager * 2\n",
    "        currentWager += 1\n",
    "        X.append(currentWager)\n",
    "        Y.append(value)\n",
    "    if value <= 0:\n",
    "        #print(\"Broke after\", currentWager, \"plays\")\n",
    "        return value\n",
    "    #print(\"Still not broke?? amazing!!!\")\n",
    "    return value\n",
    "\n",
    "\n",
    "choise = input(\" Do you want to play turn by turn or automatically choose always High or low and see if you win or lose after some rolls?\\nFor automatic give auto else give manual:\\nA -- Automatic,\\nM -- Manual\")\n",
    "initial_funds = int(input('Initial Funds:'))\n",
    "bet = int(input('How much money are you going to bet per turn??\\n'))\n",
    "times = int(input('How many times do you want to roll the Dice??\\n'))\n",
    "high_or_low = input(\"High or Low in case of automatic only:\\n\")\n",
    "\n",
    "strategy = input('What strategy are you going to follow?\\n Aggresive or single?\\nA -- Aggresive,\\n s -- Single')\n",
    "X_stat_EU = []\n",
    "Y_stat_EU = []\n",
    "if choise == \"A\":\n",
    "    x = 0\n",
    "    totalsum = 0\n",
    "    while x < 1000:\n",
    "        if strategy == \"A\":\n",
    "            totalsum += doubling_auto(initial_funds, bet, times, high_or_low)-initial_funds\n",
    "        else:\n",
    "            totalsum += simple_bettor_auto(initial_funds, bet, times, high_or_low)-initial_funds\n",
    "        x = x + 1\n",
    "        X_stat_EU.append(x)\n",
    "        Y_stat_EU.append(totalsum)\n",
    "    print(times, totalsum)"
   ]
  },
  {
   "cell_type": "code",
   "execution_count": 181,
   "metadata": {},
   "outputs": [
    {
     "data": {
      "text/plain": [
       "<matplotlib.legend.Legend at 0x11f197f28>"
      ]
     },
     "execution_count": 181,
     "metadata": {},
     "output_type": "execute_result"
    },
    {
     "data": {
      "image/png": "[encoded data removed]",
      "text/plain": [
       "<Figure size 432x288 with 1 Axes>"
      ]
     },
     "metadata": {
      "needs_background": "light"
     },
     "output_type": "display_data"
    }
   ],
   "source": [
    "plt.scatter(X_stat_US, Y_stat_US, label=\"US\")\n",
    "plt.scatter(X_stat_EU, Y_stat_EU, label=\"EU\")\n",
    "plt.legend()"
   ]
  },
  {
   "cell_type": "markdown",
   "metadata": {},
   "source": [
    "What about if we try to play a specific number of times every day we are going at the casino? are we gonna have any luck in the long run? Lets try 10000 visits at the casino and see the results."
   ]
  },
  {
   "cell_type": "code",
   "execution_count": 193,
   "metadata": {},
   "outputs": [
    {
     "name": "stdout",
     "output_type": "stream",
     "text": [
      " Do you want to play turn by turn or automatically choose always High or low and see if you win or lose after some rolls?\n",
      "For automatic give auto else give manual:\n",
      "A -- Automatic,\n",
      "M -- ManualA\n",
      "Initial Funds:1000\n",
      "How much money are you going to bet per turn??\n",
      "1\n",
      "High or Low in case of automatic only:\n",
      "High\n",
      "What strategy are you going to follow?\n",
      " Aggresive or single?\n",
      "A -- Aggresive,\n",
      " s -- SingleA\n",
      "1 -247\n",
      "2 -617\n",
      "3 -1257\n",
      "4 -1715\n",
      "5 -1832\n",
      "6 -2817\n",
      "7 -3955\n",
      "8 -5735\n",
      "9 -5510\n",
      "10 -15697\n",
      "11 -6490\n",
      "12 -11414\n",
      "13 -7970\n",
      "14 -20899\n",
      "15 -26174\n",
      "16 -15631\n",
      "17 -14326\n",
      "18 -13202\n",
      "19 -17530\n",
      "20 -28402\n",
      "21 -34586\n",
      "22 -11276\n",
      "23 -18682\n",
      "24 -28788\n",
      "25 -23642\n",
      "26 -17760\n",
      "27 -18705\n",
      "28 -37872\n",
      "29 -35635\n",
      "30 -46294\n",
      "31 -50132\n",
      "32 -37975\n",
      "33 -28504\n",
      "34 -25222\n",
      "35 -51037\n",
      "36 -56372\n",
      "37 -34720\n",
      "38 -47881\n",
      "39 -58586\n",
      "40 -85518\n",
      "41 -46775\n",
      "42 -51853\n",
      "43 -70979\n",
      "44 -80107\n",
      "45 -61244\n",
      "46 -82141\n",
      "47 -90998\n",
      "48 -68882\n",
      "49 -127132\n",
      "50 -54817\n",
      "51 -109161\n",
      "52 -51607\n",
      "53 -48305\n",
      "54 -74980\n",
      "55 -87014\n",
      "56 -99056\n",
      "57 -75610\n",
      "58 -91374\n",
      "59 -93958\n",
      "60 -92460\n",
      "61 -82468\n",
      "62 -77707\n",
      "63 -97100\n",
      "64 -139335\n",
      "65 -96890\n",
      "66 -90894\n",
      "67 -107905\n",
      "68 -127094\n",
      "69 -131981\n",
      "70 -118309\n",
      "71 -78071\n",
      "72 -117027\n",
      "73 -113912\n",
      "74 -135358\n",
      "75 -100863\n",
      "76 -104782\n",
      "77 -98640\n",
      "78 -165155\n",
      "79 -130904\n",
      "80 -105015\n",
      "81 -154940\n",
      "82 -90121\n",
      "83 -153623\n",
      "84 -119486\n",
      "85 -89508\n",
      "86 -111005\n",
      "87 -115004\n",
      "88 -121946\n",
      "89 -200954\n",
      "90 -105595\n",
      "91 -117940\n",
      "92 -150959\n",
      "93 -126978\n",
      "94 -124990\n",
      "95 -128394\n",
      "96 -164179\n",
      "97 -133145\n",
      "98 -156618\n",
      "99 -120642\n"
     ]
    }
   ],
   "source": [
    "choise = input(\" Do you want to play turn by turn or automatically choose always High or low and see if you win or lose after some rolls?\\nFor automatic give auto else give manual:\\nA -- Automatic,\\nM -- Manual\")\n",
    "initial_funds = int(input('Initial Funds:'))\n",
    "bet = int(input('How much money are you going to bet per turn??\\n'))\n",
    "#times = int(input('How many times do you want to roll the Dice??\\n'))\n",
    "high_or_low = input(\"High or Low in case of automatic only:\\n\")\n",
    "\n",
    "strategy = input('What strategy are you going to follow?\\n Aggresive or single?\\nA -- Aggresive,\\n s -- Single')\n",
    "X_stat_EU = []\n",
    "Y_stat_EU = []\n",
    "if choise == \"A\":\n",
    "    for times in range(1, 100):\n",
    "        x = 0\n",
    "        totalsum = 0\n",
    "        while x <= 10000:\n",
    "            totalsum += doubling_auto(initial_funds, bet, times, high_or_low)-initial_funds\n",
    "            x = x + 1\n",
    "        print(times, totalsum)\n",
    "        X_stat_EU.append(times)\n",
    "        Y_stat_EU.append(totalsum)\n",
    "#        X_stat_EU.append(i)\n",
    "#        Y_stat_EU.append(totalsum)\n",
    "    #print(times, totalsum)"
   ]
  },
  {
   "cell_type": "code",
   "execution_count": 194,
   "metadata": {},
   "outputs": [
    {
     "data": {
      "text/plain": [
       "<matplotlib.collections.PathCollection at 0x11f6eef28>"
      ]
     },
     "execution_count": 194,
     "metadata": {},
     "output_type": "execute_result"
    },
    {
     "data": {
      "image/png": "[encoded data removed]",
      "text/plain": [
       "<Figure size 432x288 with 1 Axes>"
      ]
     },
     "metadata": {
      "needs_background": "light"
     },
     "output_type": "display_data"
    }
   ],
   "source": [
    "plt.scatter(X_stat_EU, Y_stat_EU)"
   ]
  },
  {
   "cell_type": "markdown",
   "metadata": {},
   "source": [
    "If we go 10000 times at a Casino we are going to lose some money no matter how many times we are going to play the roulette. Let's try to see if by going to the casino only 100 times change the outcome."
   ]
  },
  {
   "cell_type": "code",
   "execution_count": 202,
   "metadata": {},
   "outputs": [
    {
     "name": "stdout",
     "output_type": "stream",
     "text": [
      " Do you want to play turn by turn or automatically choose always High or low and see if you win or lose after some rolls?\n",
      "For automatic give auto else give manual:\n",
      "A -- Automatic,\n",
      "M -- ManualA\n",
      "Initial Funds:1000\n",
      "How much money are you going to bet per turn??\n",
      "1\n",
      "High or Low in case of automatic only:\n",
      "High\n",
      "What strategy are you going to follow?\n",
      " Aggresive or single?\n",
      "A -- Aggresive,\n",
      " s -- SingleA\n",
      "1 -9\n",
      "2 1\n",
      "3 -23\n",
      "4 16\n",
      "5 -73\n",
      "6 107\n",
      "7 -17\n",
      "8 281\n",
      "9 161\n",
      "10 97\n",
      "11 -180\n",
      "12 286\n",
      "13 376\n",
      "14 330\n",
      "15 150\n",
      "16 -131\n",
      "17 -457\n",
      "18 537\n",
      "19 686\n",
      "20 658\n",
      "21 523\n",
      "22 235\n",
      "23 -510\n",
      "24 -1160\n",
      "25 320\n",
      "26 -1141\n",
      "27 -1462\n",
      "28 695\n",
      "29 -3\n",
      "30 596\n",
      "31 160\n",
      "32 -268\n",
      "33 -1338\n",
      "34 -1783\n",
      "35 -623\n",
      "36 -561\n",
      "37 1561\n",
      "38 -1547\n",
      "39 -2509\n",
      "40 544\n",
      "41 -2592\n",
      "42 -1699\n",
      "43 -3684\n",
      "44 -521\n",
      "45 -2130\n",
      "46 1739\n",
      "47 1032\n",
      "48 -1084\n",
      "49 -4229\n",
      "50 -2423\n",
      "51 -4251\n",
      "52 -108\n",
      "53 -934\n",
      "54 -1936\n",
      "55 -1828\n",
      "56 307\n",
      "57 1460\n",
      "58 446\n",
      "59 -3130\n",
      "60 -2461\n",
      "61 457\n",
      "62 -2705\n",
      "63 -5471\n",
      "64 -2451\n",
      "65 -5366\n",
      "66 -930\n",
      "67 -278\n",
      "68 928\n",
      "69 1456\n",
      "70 -2987\n",
      "71 -3990\n",
      "72 -1921\n",
      "73 -1790\n",
      "74 1350\n",
      "75 -3807\n",
      "76 -1743\n",
      "77 2199\n",
      "78 -1997\n",
      "79 165\n",
      "80 399\n",
      "81 395\n",
      "82 -3498\n",
      "83 -1267\n",
      "84 -4401\n",
      "85 -1200\n",
      "86 861\n",
      "87 -4528\n",
      "88 1724\n",
      "89 -3094\n",
      "90 23\n",
      "91 1033\n",
      "92 -1407\n",
      "93 -2129\n",
      "94 -4588\n",
      "95 -4922\n",
      "96 1440\n",
      "97 -716\n",
      "98 -740\n",
      "99 337\n"
     ]
    }
   ],
   "source": [
    "choise = input(\" Do you want to play turn by turn or automatically choose always High or low and see if you win or lose after some rolls?\\nFor automatic give auto else give manual:\\nA -- Automatic,\\nM -- Manual\")\n",
    "initial_funds = int(input('Initial Funds:'))\n",
    "bet = int(input('How much money are you going to bet per turn??\\n'))\n",
    "#times = int(input('How many times do you want to roll the Dice??\\n'))\n",
    "high_or_low = input(\"High or Low in case of automatic only:\\n\")\n",
    "\n",
    "strategy = input('What strategy are you going to follow?\\n Aggresive or single?\\nA -- Aggresive,\\n s -- Single')\n",
    "X_stat_EU = []\n",
    "Y_stat_EU = []\n",
    "if choise == \"A\":\n",
    "    for times in range(1, 100):\n",
    "        x = 0\n",
    "        totalsum = 0\n",
    "        while x <= 100:\n",
    "            totalsum += doubling_auto(initial_funds, bet, times, high_or_low)-initial_funds\n",
    "            x = x + 1\n",
    "        print(times, totalsum)\n",
    "        X_stat_EU.append(times)\n",
    "        Y_stat_EU.append(totalsum)\n",
    "#        X_stat_EU.append(i)\n",
    "#        Y_stat_EU.append(totalsum)\n",
    "    #print(times, totalsum)"
   ]
  },
  {
   "cell_type": "code",
   "execution_count": 203,
   "metadata": {},
   "outputs": [
    {
     "data": {
      "text/plain": [
       "<matplotlib.collections.PathCollection at 0x11f953240>"
      ]
     },
     "execution_count": 203,
     "metadata": {},
     "output_type": "execute_result"
    },
    {
     "data": {
      "image/png": "[encoded data removed]",
      "text/plain": [
       "<Figure size 432x288 with 1 Axes>"
      ]
     },
     "metadata": {
      "needs_background": "light"
     },
     "output_type": "display_data"
    }
   ],
   "source": [
    "plt.scatter(X_stat_EU, Y_stat_EU)"
   ]
  },
  {
   "cell_type": "markdown",
   "metadata": {},
   "source": [
    "It seems that by going at the Casino fewer times there is a better possibility to win some money. \n",
    "For example if you go 100 times and you play each time 77 turns then there would be a profit of 2199.\n",
    "But is this a statistical error? In order to find out we will run the same code for 300 times and see what results we are getting."
   ]
  },
  {
   "cell_type": "code",
   "execution_count": null,
   "metadata": {},
   "outputs": [],
   "source": [
    "choise = input(\" Do you want to play turn by turn or automatically choose always High or low and see if you win or lose after some rolls?\\nFor automatic give auto else give manual:\\nA -- Automatic,\\nM -- Manual\")\n",
    "initial_funds = int(input('Initial Funds:'))\n",
    "bet = int(input('How much money are you going to bet per turn??\\n'))\n",
    "#times = int(input('How many times do you want to roll the Dice??\\n'))\n",
    "high_or_low = input(\"High or Low in case of automatic only:\\n\")\n",
    "from collections import defaultdict\n",
    "\n",
    "results = defaultdict(list)\n",
    "\n",
    "strategy = input('What strategy are you going to follow?\\n Aggresive or single?\\nA -- Aggresive,\\n s -- Single')\n",
    "stat_EU = {}\n",
    "for i in range(300):\n",
    "    for times in range(1, 100):\n",
    "        x = 0\n",
    "        totalsum = 0\n",
    "        while x <= 100:\n",
    "            totalsum += doubling_auto(initial_funds, bet, times, high_or_low)-initial_funds\n",
    "            x = x + 1\n",
    "        print(times, totalsum)\n",
    "        results[times].append(totalsum)\n",
    "#        X_stat_EU.append(i)\n",
    "#        Y_stat_EU.append(totalsum)\n",
    "    #print(times, totalsum)"
   ]
  },
  {
   "cell_type": "code",
   "execution_count": 226,
   "metadata": {},
   "outputs": [
    {
     "name": "stdout",
     "output_type": "stream",
     "text": [
      "{1: -3.52, 2: -7.316666666666666, 3: -14.04, 4: -14.283333333333333, 5: -26.3, 6: -43.126666666666665, 7: -68.49333333333334, 8: -51.68666666666667, 9: -55.00333333333333, 10: -102.62666666666667, 11: -113.26, 12: -180.35333333333332, 13: -176.38666666666666, 14: -108.56, 15: -147.43, 16: -180.77666666666667, 17: -228.85, 18: -125.54333333333334, 19: -209.26333333333332, 20: -244.41666666666666, 21: -352.16, 22: -219.19333333333333, 23: -283.1433333333333, 24: -322.5966666666667, 25: -324.2266666666667, 26: -478.86333333333334, 27: -410.71666666666664, 28: -328.7033333333333, 29: -382.7733333333333, 30: -493.8066666666667, 31: -556.0666666666667, 32: -357.25666666666666, 33: -457, 34: -416.4533333333333, 35: -416.12666666666667, 36: -612.0733333333334, 37: -374.43, 38: -507.76666666666665, 39: -569.6966666666667, 40: -607.13, 41: -626.9566666666667, 42: -596.9333333333333, 43: -526.1133333333333, 44: -681.5733333333334, 45: -479.97333333333336, 46: -727.3933333333333, 47: -740.93, 48: -595.0666666666667, 49: -548.4766666666667, 50: -618.4033333333333, 51: -734.17, 52: -615.68, 53: -730.6866666666666, 54: -772.71, 55: -722.0733333333334, 56: -819.14, 57: -717.49, 58: -639.6866666666666, 59: -868.62, 60: -847.0166666666667, 61: -1003.66, 62: -1016.86, 63: -624.1133333333333, 64: -990.3033333333333, 65: -744.1366666666667, 66: -933.49, 67: -902.43, 68: -912.2966666666666, 69: -918.3766666666667, 70: -941.8433333333334, 71: -949.65, 72: -1134.2166666666667, 73: -913.9466666666667, 74: -1079.05, 75: -1146.7833333333333, 76: -923.6033333333334, 77: -1190.86, 78: -970.0333333333333, 79: -1215.3433333333332, 80: -1267.83, 81: -1209.4666666666667, 82: -1368.6066666666666, 83: -1383.59, 84: -1466.8833333333334, 85: -1361.2, 86: -1061.0266666666666, 87: -1148.9866666666667, 88: -1310.1566666666668, 89: -1042.51, 90: -1165.6133333333332, 91: -1296.7666666666667, 92: -1535.8333333333333, 93: -1130.7966666666666, 94: -1480.0933333333332, 95: -1286.02, 96: -1289.0833333333333, 97: -1591.16, 98: -1553.1533333333334, 99: -1699.2466666666667}\n"
     ]
    },
    {
     "data": {
      "text/plain": [
       "Text(0, 0.5, 'Amount of money')"
      ]
     },
     "execution_count": 226,
     "metadata": {},
     "output_type": "execute_result"
    },
    {
     "data": {
      "image/png": "[encoded data removed]",
      "text/plain": [
       "<Figure size 432x288 with 1 Axes>"
      ]
     },
     "metadata": {
      "needs_background": "light"
     },
     "output_type": "display_data"
    }
   ],
   "source": [
    "from statistics import mean\n",
    "results_average = {}\n",
    "for key in results.keys():\n",
    "    results_average[key] = mean(results[key])\n",
    "    plt.scatter(key, results_average[key])\n",
    "print(results_average)\n",
    "plt.xlabel(\"# of times you played\")\n",
    "plt.ylabel(\"Amount of money\")"
   ]
  },
  {
   "cell_type": "markdown",
   "metadata": {},
   "source": [
    "As it can be seen even if you go fewer times at the casino you are going to end up losing time in the long run if you choose to play High-Low or Red-Black. In fact there is no way of winning at the Casino because the green zero exists. It is even worst in the US Casino because over there you have two greens that will make you lose money. "
   ]
  }
 ],
 "metadata": {
  "kernelspec": {
   "display_name": "Python 3",
   "language": "python",
   "name": "python3"
  },
  "language_info": {
   "codemirror_mode": {
    "name": "ipython",
    "version": 3
   },
   "file_extension": ".py",
   "mimetype": "text/x-python",
   "name": "python",
   "nbconvert_exporter": "python",
   "pygments_lexer": "ipython3",
   "version": "3.6.8"
  }
 },
 "nbformat": 4,
 "nbformat_minor": 2
}
